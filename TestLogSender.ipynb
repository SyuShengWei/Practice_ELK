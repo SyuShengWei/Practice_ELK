{
 "cells": [
  {
   "cell_type": "code",
   "execution_count": 1,
   "metadata": {},
   "outputs": [],
   "source": [
    "## this is a test script to make sure ELK work\n",
    "# reference form: https://github.com/twtrubiks/docker-elk-tutorial"
   ]
  },
  {
   "cell_type": "code",
   "execution_count": 2,
   "metadata": {},
   "outputs": [],
   "source": [
    "import logging\n",
    "import logstash\n",
    "import sys\n",
    "import time"
   ]
  },
  {
   "cell_type": "code",
   "execution_count": 3,
   "metadata": {},
   "outputs": [],
   "source": [
    "host = 'localhost'\n",
    "\n",
    "test_logger = logging.getLogger('python-logstash-logger')\n",
    "test_logger.setLevel(logging.INFO)"
   ]
  },
  {
   "cell_type": "code",
   "execution_count": 4,
   "metadata": {},
   "outputs": [],
   "source": [
    "test_logger.addHandler(logstash.TCPLogstashHandler(host, 5000, version=1))\n",
    "\n",
    "test_logger.error('python-logstash: test logstash error message.')\n",
    "test_logger.info('python-logstash: test logstash info message.')\n",
    "test_logger.warning('python-logstash: test logstash warning message.')"
   ]
  },
  {
   "cell_type": "code",
   "execution_count": 5,
   "metadata": {},
   "outputs": [],
   "source": [
    "extra = {\n",
    "    'test_string': 'python version: ' + repr(sys.version_info),\n",
    "    'test_boolean': True,\n",
    "    'test_dict': {'a': 1, 'b': 'c'},\n",
    "    'test_float': 1.23,\n",
    "    'test_integer': 123,\n",
    "    'test_list': [1, 2, '3'],\n",
    "}"
   ]
  },
  {
   "cell_type": "code",
   "execution_count": 6,
   "metadata": {},
   "outputs": [],
   "source": [
    "test_logger.info('python-logstash: test extra fields', extra=extra)\n"
   ]
  },
  {
   "cell_type": "code",
   "execution_count": 7,
   "metadata": {},
   "outputs": [],
   "source": [
    "for i in range(100):\n",
    "    test_logger.info(str(i))\n",
    "    time.sleep(5)"
   ]
  },
  {
   "cell_type": "code",
   "execution_count": null,
   "metadata": {},
   "outputs": [],
   "source": []
  }
 ],
 "metadata": {
  "kernelspec": {
   "display_name": "Python 3",
   "language": "python",
   "name": "python3"
  },
  "language_info": {
   "codemirror_mode": {
    "name": "ipython",
    "version": 3
   },
   "file_extension": ".py",
   "mimetype": "text/x-python",
   "name": "python",
   "nbconvert_exporter": "python",
   "pygments_lexer": "ipython3",
   "version": "3.6.8"
  }
 },
 "nbformat": 4,
 "nbformat_minor": 2
}
